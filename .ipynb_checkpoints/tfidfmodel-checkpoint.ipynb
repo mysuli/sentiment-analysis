{
 "cells": [
  {
   "cell_type": "code",
   "execution_count": 1,
   "metadata": {
    "ExecuteTime": {
     "end_time": "2018-02-01T16:10:59.839938Z",
     "start_time": "2018-02-01T16:10:57.781511Z"
    }
   },
   "outputs": [
    {
     "name": "stdout",
     "output_type": "stream",
     "text": [
      "Populating the interactive namespace from numpy and matplotlib\n"
     ]
    }
   ],
   "source": [
    "import numpy as np\n",
    "import pandas as pd\n",
    "import matplotlib.pyplot as plt\n",
    "import jieba\n",
    "import nltk\n",
    "from sklearn import preprocessing\n",
    "from sklearn import metrics\n",
    "from sklearn.pipeline import Pipeline\n",
    "from sklearn import datasets\n",
    "from scipy.sparse import csr_matrix\n",
    "%pylab inline"
   ]
  },
  {
   "cell_type": "code",
   "execution_count": 4,
   "metadata": {
    "ExecuteTime": {
     "end_time": "2018-02-01T16:11:15.907204Z",
     "start_time": "2018-02-01T16:11:15.808592Z"
    }
   },
   "outputs": [
    {
     "data": {
      "text/plain": [
       "725"
      ]
     },
     "execution_count": 4,
     "metadata": {},
     "output_type": "execute_result"
    }
   ],
   "source": [
    "df = pd.read_excel('lgyx_review_copy.xlsx')\n",
    "raw_reviews = df['review']\n",
    "raw_reviews = [str(s).strip() for s in raw_reviews]\n",
    "y_train = list(df['class'])\n",
    "len(raw_reviews)"
   ]
  },
  {
   "cell_type": "code",
   "execution_count": 5,
   "metadata": {
    "ExecuteTime": {
     "end_time": "2018-02-01T16:11:28.407654Z",
     "start_time": "2018-02-01T16:11:28.274406Z"
    }
   },
   "outputs": [
    {
     "data": {
      "text/plain": [
       "897"
      ]
     },
     "execution_count": 5,
     "metadata": {},
     "output_type": "execute_result"
    }
   ],
   "source": [
    "test_df = pd.read_excel('shrzlzw_review_copy.xlsx')\n",
    "raw_reviews_test = test_df['review']\n",
    "raw_reviews_test = [str(s).strip() for s in raw_reviews_test]\n",
    "y_test = list(test_df['class'])\n",
    "len(raw_reviews_test)"
   ]
  },
  {
   "cell_type": "code",
   "execution_count": 52,
   "metadata": {},
   "outputs": [
    {
     "data": {
      "text/plain": [
       "988"
      ]
     },
     "execution_count": 52,
     "metadata": {},
     "output_type": "execute_result"
    }
   ],
   "source": [
    "# test_df2 = pd.read_excel('rgnstsh_review_copy.xlsx')\n",
    "# raw_reviews_test2 = df2['review']\n",
    "# raw_reviews_test2 = [str(s).strip() for s in raw_reviews2]\n",
    "# y_train2 = list(df2['class'])\n",
    "# len(raw_reviews2)"
   ]
  },
  {
   "cell_type": "code",
   "execution_count": 6,
   "metadata": {
    "ExecuteTime": {
     "end_time": "2018-02-01T16:11:58.583082Z",
     "start_time": "2018-02-01T16:11:58.573289Z"
    }
   },
   "outputs": [
    {
     "name": "stdout",
     "output_type": "stream",
     "text": [
      "1622 1622\n"
     ]
    }
   ],
   "source": [
    "raw_reviews = raw_reviews_test + raw_reviews\n",
    "y = y_train + y_test\n",
    "print(len(raw_reviews), len(y))"
   ]
  },
  {
   "cell_type": "code",
   "execution_count": 11,
   "metadata": {
    "ExecuteTime": {
     "end_time": "2018-02-01T16:19:32.532369Z",
     "start_time": "2018-02-01T16:19:32.206022Z"
    }
   },
   "outputs": [],
   "source": [
    "# 分词\n",
    "texts = [list(jieba.cut(review, cut_all=False)) for review in raw_reviews]"
   ]
  },
  {
   "cell_type": "code",
   "execution_count": 12,
   "metadata": {
    "ExecuteTime": {
     "end_time": "2018-02-01T16:19:33.904033Z",
     "start_time": "2018-02-01T16:19:33.889580Z"
    }
   },
   "outputs": [],
   "source": [
    "texts = [[word.strip() for word in review if word.strip()] for review in texts]"
   ]
  },
  {
   "cell_type": "code",
   "execution_count": 14,
   "metadata": {
    "ExecuteTime": {
     "end_time": "2018-02-01T16:20:27.296777Z",
     "start_time": "2018-02-01T16:20:27.282637Z"
    },
    "scrolled": true
   },
   "outputs": [
    {
     "name": "stdout",
     "output_type": "stream",
     "text": [
      "[['看不下去'], ['我', '跑', '偏', '了', '。', '。', '老', '想', '她们', '到底', '是', '买', '套', '还是', '吃药', '?', '然后', '想起', '无', '后', '！', '真', '省钱', '。', '。'], ['官方', '吐槽', '，', '柯南', '附体', '?'], ['让', '我', '想', '起来', '我', '搭', '公交', '的', '一件', '事', '，', '一个', '妹子', '做', '在', '老弱病残', '坐', '然后', '带', '着', '耳机', '闭', '着眼', '，', '手', '搭', '在', '前面', '座椅', '上', '然后', '头', '抵', '在', '手上', '，', '貌似', '睡着', '了', '，', '因为', '我', '上来', '的', '时候', '妹子', '就是', '那个', '姿势', '，', '中间', '经过', '几个', '站', '也', '没', '反应', '，', '然后', '上来', '个', '女', '的', '，', '大概', '是', '那种', '生完', '孩子', '还', '在', '坐月子', '中', '，', '头包', '着', '还', '穿着', '那种', '厚厚的', '睡衣', '，', '后面', '那', '大概', '是', '她', '婆婆', '抱', '着', '小孩', '，', '然后', '那女', '的', '左右', '看看', '就', '直接', '到', '那', '妹子', '边', '了', '，', '叫', '了', '两声', '那', '妹子', '没', '听见', '，', '毕竟', '带', '了', '耳机', '又', '睡着', '了', '，', '那女', '的', '不耐烦', '了', '就', '推', '了', '那', '妹子', '一下', '，', '那', '妹子', '一下', '就', '惊醒', '了', '，', '然后', '那女', '的', '就', '直接', '叫', '妹子', '起来', '，', '话语', '间', '也', '不', '客气', '，', '抱', '着', '孩子', '的', '婆婆', '坐下', '后', '那', '女', '的', '还', '在', '唧唧', '歪歪', '话', '里', '话', '外', '就', '说', '那', '妹子', '故意', '的', '，', '什么', '现在', '人', '啊', '真是', '一点', '不', '自觉', '，', '我', '听', '着', '都', '不', '舒服', '了', '，', '那', '妹子', '开始', '也', '忍下来', '了', '，', '那女', '的', '还', '在', '那', '说', '声音', '还', '没', '掩', '着', '点', '，', '那', '妹子', '也', '急', '了', '就', '说', '我', '都', '已经', '让位', '了', '你', '什么', '意思', '啊', '。', '妹子', '大概', '是', '大学', '新入', '社会', '的', '新人', '，', '因为', '声音', '软软', '的', '说话', '也', '比较', '斯文', '，', '那女', '的', '一', '听', '这个', '就', '来劲', '了', '然后', '妹子', '又', '说', '你', '这人', '性子', '怎么', '这样', '，', '好好', '说', '不行', '么', '那', '女', '的', '就', '炸', '了', '，', '说', '我', '怎么', '没', '好好', '说', '了', '，', '这里', '开始', '声音', '完全', '大', '了', '起来', '就是', '吵架', '的', '那种', '口气', '了', '，', '坐在', '后面', '的', '一位', '婆婆', '直接', '拉过', '妹子', '让', '妹子', '做', '她', '的', '位子', '，', '然后', '周围', '爹爹', '婆婆', '也', '开始', '劝', '了', '而且', '在', '那', '女', '的', '说', '的', '时候', '，', '那女', '的', '婆婆', '还是', '妈妈', '也', '劝', '了', '那', '女', '的', '两次', '，', '那女', '的', '都', '没', '听', '自顾自', '的', '说', '，', '知道', '周围', '各个', '都', '说', '了', '她', '才', '不', '说', '了', '还', '心不甘', '情不愿', '的', '。', '然后', '最', '让', '我', '失望', '来', '了', '，', '妹子', '跟', '我', '一站', '下车', '，', '下车', '后', '我', '才', '发现', '妹子', '竟然', '还有', '同伴', '而且', '同伴', '还有', '几个', '男', '的', '！', '！', '竟然', '都', '没有', '上去', '帮忙', '劝劝', '！', '不', '认识', '的', '年轻人', '不好', '说', '，', '尼玛', '你们', '一群', '同伴', '啊', '竟然', '都', '没有', '去', '帮', '同事', '解围', '我', '也', '是', '无语', '！', '还', '不如', '陌生人'], ['看', '这文', '看', '得', '我', '好', '憋屈', '压抑', '啊']]\n"
     ]
    }
   ],
   "source": [
    "print(texts[:5])"
   ]
  },
  {
   "cell_type": "code",
   "execution_count": 15,
   "metadata": {
    "ExecuteTime": {
     "end_time": "2018-02-01T16:24:34.301070Z",
     "start_time": "2018-02-01T16:24:34.290039Z"
    }
   },
   "outputs": [],
   "source": [
    "# for i in range(len(texts)):\n",
    "#     if texts[i] != []:\n",
    "#         for j in range(len(texts[i]))[::-1]:\n",
    "#             if texts[i][j].isdigit():\n",
    "#                 texts[i].pop(j)\n",
    "texts = [[word for word in review if not word.isdigit()] for review in texts if review]"
   ]
  },
  {
   "cell_type": "code",
   "execution_count": 16,
   "metadata": {
    "ExecuteTime": {
     "end_time": "2018-02-01T16:27:49.441789Z",
     "start_time": "2018-02-01T16:27:49.349318Z"
    }
   },
   "outputs": [
    {
     "ename": "FileNotFoundError",
     "evalue": "[Errno 2] No such file or directory: 'stop_words.xlsx'",
     "output_type": "error",
     "traceback": [
      "\u001b[0;31m---------------------------------------------------------------------------\u001b[0m",
      "\u001b[0;31mFileNotFoundError\u001b[0m                         Traceback (most recent call last)",
      "\u001b[0;32m<ipython-input-16-fdb871776d0d>\u001b[0m in \u001b[0;36m<module>\u001b[0;34m()\u001b[0m\n\u001b[0;32m----> 1\u001b[0;31m \u001b[0mstop_words\u001b[0m  \u001b[0;34m=\u001b[0m \u001b[0mlist\u001b[0m\u001b[0;34m(\u001b[0m\u001b[0mpd\u001b[0m\u001b[0;34m.\u001b[0m\u001b[0mread_excel\u001b[0m\u001b[0;34m(\u001b[0m\u001b[0;34m'stop_words.xlsx'\u001b[0m\u001b[0;34m)\u001b[0m\u001b[0;34m[\u001b[0m\u001b[0;34m'word'\u001b[0m\u001b[0;34m]\u001b[0m\u001b[0;34m)\u001b[0m\u001b[0;34m\u001b[0m\u001b[0m\n\u001b[0m\u001b[1;32m      2\u001b[0m \u001b[0mstop_words\u001b[0m \u001b[0;34m=\u001b[0m \u001b[0;34m[\u001b[0m\u001b[0mstr\u001b[0m\u001b[0;34m(\u001b[0m\u001b[0mx\u001b[0m\u001b[0;34m)\u001b[0m \u001b[0;32mfor\u001b[0m \u001b[0mx\u001b[0m \u001b[0;32min\u001b[0m \u001b[0mstop_words\u001b[0m\u001b[0;34m]\u001b[0m\u001b[0;34m\u001b[0m\u001b[0m\n\u001b[1;32m      3\u001b[0m \u001b[0;31m# for s in stop_words:\u001b[0m\u001b[0;34m\u001b[0m\u001b[0;34m\u001b[0m\u001b[0m\n\u001b[1;32m      4\u001b[0m \u001b[0;31m#     for i in range(len(texts)):\u001b[0m\u001b[0;34m\u001b[0m\u001b[0;34m\u001b[0m\u001b[0m\n\u001b[1;32m      5\u001b[0m \u001b[0;31m#         while(s in texts[i]):\u001b[0m\u001b[0;34m\u001b[0m\u001b[0;34m\u001b[0m\u001b[0m\n",
      "\u001b[0;32m~/miniconda3/lib/python3.6/site-packages/pandas/util/_decorators.py\u001b[0m in \u001b[0;36mwrapper\u001b[0;34m(*args, **kwargs)\u001b[0m\n\u001b[1;32m    116\u001b[0m                 \u001b[0;32melse\u001b[0m\u001b[0;34m:\u001b[0m\u001b[0;34m\u001b[0m\u001b[0m\n\u001b[1;32m    117\u001b[0m                     \u001b[0mkwargs\u001b[0m\u001b[0;34m[\u001b[0m\u001b[0mnew_arg_name\u001b[0m\u001b[0;34m]\u001b[0m \u001b[0;34m=\u001b[0m \u001b[0mnew_arg_value\u001b[0m\u001b[0;34m\u001b[0m\u001b[0m\n\u001b[0;32m--> 118\u001b[0;31m             \u001b[0;32mreturn\u001b[0m \u001b[0mfunc\u001b[0m\u001b[0;34m(\u001b[0m\u001b[0;34m*\u001b[0m\u001b[0margs\u001b[0m\u001b[0;34m,\u001b[0m \u001b[0;34m**\u001b[0m\u001b[0mkwargs\u001b[0m\u001b[0;34m)\u001b[0m\u001b[0;34m\u001b[0m\u001b[0m\n\u001b[0m\u001b[1;32m    119\u001b[0m         \u001b[0;32mreturn\u001b[0m \u001b[0mwrapper\u001b[0m\u001b[0;34m\u001b[0m\u001b[0m\n\u001b[1;32m    120\u001b[0m     \u001b[0;32mreturn\u001b[0m \u001b[0m_deprecate_kwarg\u001b[0m\u001b[0;34m\u001b[0m\u001b[0m\n",
      "\u001b[0;32m~/miniconda3/lib/python3.6/site-packages/pandas/io/excel.py\u001b[0m in \u001b[0;36mread_excel\u001b[0;34m(io, sheet_name, header, skiprows, skip_footer, index_col, names, usecols, parse_dates, date_parser, na_values, thousands, convert_float, converters, dtype, true_values, false_values, engine, squeeze, **kwds)\u001b[0m\n\u001b[1;32m    228\u001b[0m \u001b[0;34m\u001b[0m\u001b[0m\n\u001b[1;32m    229\u001b[0m     \u001b[0;32mif\u001b[0m \u001b[0;32mnot\u001b[0m \u001b[0misinstance\u001b[0m\u001b[0;34m(\u001b[0m\u001b[0mio\u001b[0m\u001b[0;34m,\u001b[0m \u001b[0mExcelFile\u001b[0m\u001b[0;34m)\u001b[0m\u001b[0;34m:\u001b[0m\u001b[0;34m\u001b[0m\u001b[0m\n\u001b[0;32m--> 230\u001b[0;31m         \u001b[0mio\u001b[0m \u001b[0;34m=\u001b[0m \u001b[0mExcelFile\u001b[0m\u001b[0;34m(\u001b[0m\u001b[0mio\u001b[0m\u001b[0;34m,\u001b[0m \u001b[0mengine\u001b[0m\u001b[0;34m=\u001b[0m\u001b[0mengine\u001b[0m\u001b[0;34m)\u001b[0m\u001b[0;34m\u001b[0m\u001b[0m\n\u001b[0m\u001b[1;32m    231\u001b[0m \u001b[0;34m\u001b[0m\u001b[0m\n\u001b[1;32m    232\u001b[0m     return io._parse_excel(\n",
      "\u001b[0;32m~/miniconda3/lib/python3.6/site-packages/pandas/io/excel.py\u001b[0m in \u001b[0;36m__init__\u001b[0;34m(self, io, **kwds)\u001b[0m\n\u001b[1;32m    292\u001b[0m             \u001b[0mself\u001b[0m\u001b[0;34m.\u001b[0m\u001b[0mbook\u001b[0m \u001b[0;34m=\u001b[0m \u001b[0mxlrd\u001b[0m\u001b[0;34m.\u001b[0m\u001b[0mopen_workbook\u001b[0m\u001b[0;34m(\u001b[0m\u001b[0mfile_contents\u001b[0m\u001b[0;34m=\u001b[0m\u001b[0mdata\u001b[0m\u001b[0;34m)\u001b[0m\u001b[0;34m\u001b[0m\u001b[0m\n\u001b[1;32m    293\u001b[0m         \u001b[0;32melif\u001b[0m \u001b[0misinstance\u001b[0m\u001b[0;34m(\u001b[0m\u001b[0mself\u001b[0m\u001b[0;34m.\u001b[0m\u001b[0m_io\u001b[0m\u001b[0;34m,\u001b[0m \u001b[0mcompat\u001b[0m\u001b[0;34m.\u001b[0m\u001b[0mstring_types\u001b[0m\u001b[0;34m)\u001b[0m\u001b[0;34m:\u001b[0m\u001b[0;34m\u001b[0m\u001b[0m\n\u001b[0;32m--> 294\u001b[0;31m             \u001b[0mself\u001b[0m\u001b[0;34m.\u001b[0m\u001b[0mbook\u001b[0m \u001b[0;34m=\u001b[0m \u001b[0mxlrd\u001b[0m\u001b[0;34m.\u001b[0m\u001b[0mopen_workbook\u001b[0m\u001b[0;34m(\u001b[0m\u001b[0mself\u001b[0m\u001b[0;34m.\u001b[0m\u001b[0m_io\u001b[0m\u001b[0;34m)\u001b[0m\u001b[0;34m\u001b[0m\u001b[0m\n\u001b[0m\u001b[1;32m    295\u001b[0m         \u001b[0;32melse\u001b[0m\u001b[0;34m:\u001b[0m\u001b[0;34m\u001b[0m\u001b[0m\n\u001b[1;32m    296\u001b[0m             raise ValueError('Must explicitly set engine if not passing in'\n",
      "\u001b[0;32m~/miniconda3/lib/python3.6/site-packages/xlrd/__init__.py\u001b[0m in \u001b[0;36mopen_workbook\u001b[0;34m(filename, logfile, verbosity, use_mmap, file_contents, encoding_override, formatting_info, on_demand, ragged_rows)\u001b[0m\n\u001b[1;32m    114\u001b[0m         \u001b[0mpeek\u001b[0m \u001b[0;34m=\u001b[0m \u001b[0mfile_contents\u001b[0m\u001b[0;34m[\u001b[0m\u001b[0;34m:\u001b[0m\u001b[0mpeeksz\u001b[0m\u001b[0;34m]\u001b[0m\u001b[0;34m\u001b[0m\u001b[0m\n\u001b[1;32m    115\u001b[0m     \u001b[0;32melse\u001b[0m\u001b[0;34m:\u001b[0m\u001b[0;34m\u001b[0m\u001b[0m\n\u001b[0;32m--> 116\u001b[0;31m         \u001b[0;32mwith\u001b[0m \u001b[0mopen\u001b[0m\u001b[0;34m(\u001b[0m\u001b[0mfilename\u001b[0m\u001b[0;34m,\u001b[0m \u001b[0;34m\"rb\"\u001b[0m\u001b[0;34m)\u001b[0m \u001b[0;32mas\u001b[0m \u001b[0mf\u001b[0m\u001b[0;34m:\u001b[0m\u001b[0;34m\u001b[0m\u001b[0m\n\u001b[0m\u001b[1;32m    117\u001b[0m             \u001b[0mpeek\u001b[0m \u001b[0;34m=\u001b[0m \u001b[0mf\u001b[0m\u001b[0;34m.\u001b[0m\u001b[0mread\u001b[0m\u001b[0;34m(\u001b[0m\u001b[0mpeeksz\u001b[0m\u001b[0;34m)\u001b[0m\u001b[0;34m\u001b[0m\u001b[0m\n\u001b[1;32m    118\u001b[0m     \u001b[0;32mif\u001b[0m \u001b[0mpeek\u001b[0m \u001b[0;34m==\u001b[0m \u001b[0;34mb\"PK\\x03\\x04\"\u001b[0m\u001b[0;34m:\u001b[0m \u001b[0;31m# a ZIP file\u001b[0m\u001b[0;34m\u001b[0m\u001b[0m\n",
      "\u001b[0;31mFileNotFoundError\u001b[0m: [Errno 2] No such file or directory: 'stop_words.xlsx'"
     ]
    }
   ],
   "source": [
    "stop_words  = list(pd.read_excel('stop_words.xlsx')['word'])\n",
    "stop_words = [str(x) for x in stop_words]\n",
    "# for s in stop_words:\n",
    "#     for i in range(len(texts)):\n",
    "#         while(s in texts[i]):\n",
    "#             texts[i].remove(s)\n",
    "texts = [[word for word in review if word not in stop_words and len(word) > 1] for review in texts]"
   ]
  },
  {
   "cell_type": "code",
   "execution_count": 90,
   "metadata": {
    "collapsed": true
   },
   "outputs": [],
   "source": [
    "# for i in range(len(texts)):\n",
    "#     for j in range(len(texts[i]))[::-1]:\n",
    "#         if len(texts[i][j]) ==1:\n",
    "#             texts[i].pop(j)"
   ]
  },
  {
   "cell_type": "code",
   "execution_count": 17,
   "metadata": {
    "ExecuteTime": {
     "end_time": "2018-02-01T16:42:29.143708Z",
     "start_time": "2018-02-01T16:42:29.136631Z"
    }
   },
   "outputs": [
    {
     "data": {
      "text/plain": [
       "1622"
      ]
     },
     "execution_count": 17,
     "metadata": {},
     "output_type": "execute_result"
    }
   ],
   "source": [
    "len(texts)"
   ]
  },
  {
   "cell_type": "code",
   "execution_count": 92,
   "metadata": {},
   "outputs": [
    {
     "data": {
      "text/plain": [
       "'from nltk.collocations import BigramCollocationFinder\\nfrom nltk.metrics import BigramAssocMeasures\\nword_list = []\\nfor review in texts:\\n    for char in review:\\n        word_list.append(char) \\nbigrams = BigramCollocationFinder.from_words(word_list)\\nmost_informative_pmi_bigrams = bigrams.nbest(BigramAssocMeasures.pmi, 3)\\nprint(most_informative_pmi_bigrams)'"
      ]
     },
     "execution_count": 92,
     "metadata": {},
     "output_type": "execute_result"
    }
   ],
   "source": [
    "# from nltk.collocations import BigramCollocationFinder\n",
    "# from nltk.metrics import BigramAssocMeasures\n",
    "# word_list = []\n",
    "# for review in texts:\n",
    "#     for char in review:\n",
    "#         word_list.append(char) \n",
    "# bigrams = BigramCollocationFinder.from_words(word_list)\n",
    "# most_informative_pmi_bigrams = bigrams.nbest(BigramAssocMeasures.pmi, 3)\n",
    "# print(most_informative_pmi_bigrams)"
   ]
  },
  {
   "cell_type": "code",
   "execution_count": 18,
   "metadata": {
    "ExecuteTime": {
     "end_time": "2018-02-01T16:42:32.298062Z",
     "start_time": "2018-02-01T16:42:32.291075Z"
    }
   },
   "outputs": [],
   "source": [
    "X_y_df = pd.DataFrame({\n",
    "    'X':texts[:725],\n",
    "    'y':y_train\n",
    "})"
   ]
  },
  {
   "cell_type": "code",
   "execution_count": 19,
   "metadata": {
    "ExecuteTime": {
     "end_time": "2018-02-01T16:42:33.132666Z",
     "start_time": "2018-02-01T16:42:33.125760Z"
    }
   },
   "outputs": [],
   "source": [
    "X_y_df_test = pd.DataFrame({\n",
    "    'X':texts[725:],\n",
    "    'y':y_test\n",
    "})"
   ]
  },
  {
   "cell_type": "code",
   "execution_count": 20,
   "metadata": {
    "ExecuteTime": {
     "end_time": "2018-02-01T16:42:34.018903Z",
     "start_time": "2018-02-01T16:42:33.907769Z"
    }
   },
   "outputs": [],
   "source": [
    "null_index = []\n",
    "for i in range(len(texts[:725])):\n",
    "    if texts[i] == []:\n",
    "        null_index.append(i)\n",
    "X_y_df = X_y_df.drop(null_index)"
   ]
  },
  {
   "cell_type": "code",
   "execution_count": 21,
   "metadata": {
    "ExecuteTime": {
     "end_time": "2018-02-01T16:42:34.685611Z",
     "start_time": "2018-02-01T16:42:34.676113Z"
    }
   },
   "outputs": [],
   "source": [
    "null_index = []\n",
    "for i in range(725,len(texts)):\n",
    "    if texts[i] == []:\n",
    "        null_index.append(i)\n",
    "null_index = [x-725 for x in null_index]\n",
    "X_y_df_test = X_y_df_test.drop(null_index)"
   ]
  },
  {
   "cell_type": "code",
   "execution_count": 22,
   "metadata": {
    "ExecuteTime": {
     "end_time": "2018-02-01T16:42:35.272850Z",
     "start_time": "2018-02-01T16:42:35.264757Z"
    }
   },
   "outputs": [
    {
     "name": "stdout",
     "output_type": "stream",
     "text": [
      "723 723\n"
     ]
    }
   ],
   "source": [
    "texts_train = list(X_y_df['X'])\n",
    "y_train = list(X_y_df['y'])\n",
    "print(len(texts_train),len(y_train))"
   ]
  },
  {
   "cell_type": "code",
   "execution_count": 23,
   "metadata": {
    "ExecuteTime": {
     "end_time": "2018-02-01T16:42:36.229977Z",
     "start_time": "2018-02-01T16:42:36.221470Z"
    }
   },
   "outputs": [
    {
     "name": "stdout",
     "output_type": "stream",
     "text": [
      "895 895\n"
     ]
    }
   ],
   "source": [
    "texts_test = list(X_y_df_test['X'])\n",
    "y_test = list(X_y_df_test['y'])\n",
    "print(len(texts_test),len(y_test))"
   ]
  },
  {
   "cell_type": "code",
   "execution_count": 24,
   "metadata": {
    "ExecuteTime": {
     "end_time": "2018-02-01T16:42:37.342071Z",
     "start_time": "2018-02-01T16:42:37.334740Z"
    }
   },
   "outputs": [
    {
     "data": {
      "text/plain": [
       "1618"
      ]
     },
     "execution_count": 24,
     "metadata": {},
     "output_type": "execute_result"
    }
   ],
   "source": [
    "texts = texts_train+texts_test\n",
    "len(texts)"
   ]
  },
  {
   "cell_type": "code",
   "execution_count": 25,
   "metadata": {
    "ExecuteTime": {
     "end_time": "2018-02-01T16:42:39.256641Z",
     "start_time": "2018-02-01T16:42:38.373622Z"
    }
   },
   "outputs": [],
   "source": [
    "from gensim import corpora, models, similarities\n",
    "dictionary = corpora.Dictionary(texts)\n",
    "corpus = [dictionary.doc2bow(text) for text in texts]\n",
    "tfidf = models.TfidfModel(corpus)\n",
    "corpus_tfidf = tfidf[corpus]  "
   ]
  },
  {
   "cell_type": "code",
   "execution_count": 26,
   "metadata": {
    "ExecuteTime": {
     "end_time": "2018-02-01T16:42:40.202265Z",
     "start_time": "2018-02-01T16:42:40.113139Z"
    }
   },
   "outputs": [],
   "source": [
    "data, rows, cols = [], [], []\n",
    "for line_num, line in enumerate(corpus_tfidf):\n",
    "    for elem in line:\n",
    "        rows.append(line_num)\n",
    "        cols.append(elem[0])\n",
    "        data.append(elem[1])\n",
    "tfidf_matrix = csr_matrix((data,(rows,cols))).toarray()"
   ]
  },
  {
   "cell_type": "code",
   "execution_count": 27,
   "metadata": {
    "ExecuteTime": {
     "end_time": "2018-02-01T16:42:43.276258Z",
     "start_time": "2018-02-01T16:42:43.215580Z"
    }
   },
   "outputs": [
    {
     "name": "stderr",
     "output_type": "stream",
     "text": [
      "/root/miniconda3/lib/python3.6/site-packages/sklearn/cross_validation.py:41: DeprecationWarning: This module was deprecated in version 0.18 in favor of the model_selection module into which all the refactored classes and functions are moved. Also note that the interface of the new CV iterators are different from that of this module. This module will be removed in 0.20.\n",
      "  \"This module will be removed in 0.20.\", DeprecationWarning)\n"
     ]
    },
    {
     "ename": "ValueError",
     "evalue": "Found input variables with inconsistent numbers of samples: [667, 723]",
     "output_type": "error",
     "traceback": [
      "\u001b[0;31m---------------------------------------------------------------------------\u001b[0m",
      "\u001b[0;31mValueError\u001b[0m                                Traceback (most recent call last)",
      "\u001b[0;32m<ipython-input-27-54e4c0c24bbf>\u001b[0m in \u001b[0;36m<module>\u001b[0;34m()\u001b[0m\n\u001b[1;32m      3\u001b[0m \u001b[0mX_test\u001b[0m \u001b[0;34m=\u001b[0m \u001b[0mtfidf_matrix\u001b[0m\u001b[0;34m[\u001b[0m\u001b[0;36m667\u001b[0m\u001b[0;34m:\u001b[0m\u001b[0;34m]\u001b[0m\u001b[0;34m\u001b[0m\u001b[0m\n\u001b[1;32m      4\u001b[0m \u001b[0;32mfrom\u001b[0m \u001b[0msklearn\u001b[0m\u001b[0;34m.\u001b[0m\u001b[0mnaive_bayes\u001b[0m \u001b[0;32mimport\u001b[0m \u001b[0mMultinomialNB\u001b[0m\u001b[0;34m\u001b[0m\u001b[0m\n\u001b[0;32m----> 5\u001b[0;31m \u001b[0mclf\u001b[0m \u001b[0;34m=\u001b[0m \u001b[0mMultinomialNB\u001b[0m\u001b[0;34m(\u001b[0m\u001b[0;34m)\u001b[0m\u001b[0;34m.\u001b[0m\u001b[0mfit\u001b[0m\u001b[0;34m(\u001b[0m\u001b[0mX_train\u001b[0m\u001b[0;34m,\u001b[0m\u001b[0my_train\u001b[0m\u001b[0;34m)\u001b[0m\u001b[0;34m\u001b[0m\u001b[0m\n\u001b[0m\u001b[1;32m      6\u001b[0m \u001b[0mpred\u001b[0m \u001b[0;34m=\u001b[0m \u001b[0mclf\u001b[0m\u001b[0;34m.\u001b[0m\u001b[0mpredict\u001b[0m\u001b[0;34m(\u001b[0m\u001b[0mX_test\u001b[0m\u001b[0;34m)\u001b[0m\u001b[0;34m\u001b[0m\u001b[0m\n\u001b[1;32m      7\u001b[0m \u001b[0mprint\u001b[0m\u001b[0;34m(\u001b[0m\u001b[0mnp\u001b[0m\u001b[0;34m.\u001b[0m\u001b[0mmean\u001b[0m\u001b[0;34m(\u001b[0m\u001b[0mpred\u001b[0m \u001b[0;34m==\u001b[0m \u001b[0my_test\u001b[0m\u001b[0;34m)\u001b[0m\u001b[0;34m)\u001b[0m\u001b[0;34m\u001b[0m\u001b[0m\n",
      "\u001b[0;32m~/miniconda3/lib/python3.6/site-packages/sklearn/naive_bayes.py\u001b[0m in \u001b[0;36mfit\u001b[0;34m(self, X, y, sample_weight)\u001b[0m\n\u001b[1;32m    577\u001b[0m             \u001b[0mReturns\u001b[0m \u001b[0mself\u001b[0m\u001b[0;34m.\u001b[0m\u001b[0;34m\u001b[0m\u001b[0m\n\u001b[1;32m    578\u001b[0m         \"\"\"\n\u001b[0;32m--> 579\u001b[0;31m         \u001b[0mX\u001b[0m\u001b[0;34m,\u001b[0m \u001b[0my\u001b[0m \u001b[0;34m=\u001b[0m \u001b[0mcheck_X_y\u001b[0m\u001b[0;34m(\u001b[0m\u001b[0mX\u001b[0m\u001b[0;34m,\u001b[0m \u001b[0my\u001b[0m\u001b[0;34m,\u001b[0m \u001b[0;34m'csr'\u001b[0m\u001b[0;34m)\u001b[0m\u001b[0;34m\u001b[0m\u001b[0m\n\u001b[0m\u001b[1;32m    580\u001b[0m         \u001b[0m_\u001b[0m\u001b[0;34m,\u001b[0m \u001b[0mn_features\u001b[0m \u001b[0;34m=\u001b[0m \u001b[0mX\u001b[0m\u001b[0;34m.\u001b[0m\u001b[0mshape\u001b[0m\u001b[0;34m\u001b[0m\u001b[0m\n\u001b[1;32m    581\u001b[0m \u001b[0;34m\u001b[0m\u001b[0m\n",
      "\u001b[0;32m~/miniconda3/lib/python3.6/site-packages/sklearn/utils/validation.py\u001b[0m in \u001b[0;36mcheck_X_y\u001b[0;34m(X, y, accept_sparse, dtype, order, copy, force_all_finite, ensure_2d, allow_nd, multi_output, ensure_min_samples, ensure_min_features, y_numeric, warn_on_dtype, estimator)\u001b[0m\n\u001b[1;32m    581\u001b[0m         \u001b[0my\u001b[0m \u001b[0;34m=\u001b[0m \u001b[0my\u001b[0m\u001b[0;34m.\u001b[0m\u001b[0mastype\u001b[0m\u001b[0;34m(\u001b[0m\u001b[0mnp\u001b[0m\u001b[0;34m.\u001b[0m\u001b[0mfloat64\u001b[0m\u001b[0;34m)\u001b[0m\u001b[0;34m\u001b[0m\u001b[0m\n\u001b[1;32m    582\u001b[0m \u001b[0;34m\u001b[0m\u001b[0m\n\u001b[0;32m--> 583\u001b[0;31m     \u001b[0mcheck_consistent_length\u001b[0m\u001b[0;34m(\u001b[0m\u001b[0mX\u001b[0m\u001b[0;34m,\u001b[0m \u001b[0my\u001b[0m\u001b[0;34m)\u001b[0m\u001b[0;34m\u001b[0m\u001b[0m\n\u001b[0m\u001b[1;32m    584\u001b[0m \u001b[0;34m\u001b[0m\u001b[0m\n\u001b[1;32m    585\u001b[0m     \u001b[0;32mreturn\u001b[0m \u001b[0mX\u001b[0m\u001b[0;34m,\u001b[0m \u001b[0my\u001b[0m\u001b[0;34m\u001b[0m\u001b[0m\n",
      "\u001b[0;32m~/miniconda3/lib/python3.6/site-packages/sklearn/utils/validation.py\u001b[0m in \u001b[0;36mcheck_consistent_length\u001b[0;34m(*arrays)\u001b[0m\n\u001b[1;32m    202\u001b[0m     \u001b[0;32mif\u001b[0m \u001b[0mlen\u001b[0m\u001b[0;34m(\u001b[0m\u001b[0muniques\u001b[0m\u001b[0;34m)\u001b[0m \u001b[0;34m>\u001b[0m \u001b[0;36m1\u001b[0m\u001b[0;34m:\u001b[0m\u001b[0;34m\u001b[0m\u001b[0m\n\u001b[1;32m    203\u001b[0m         raise ValueError(\"Found input variables with inconsistent numbers of\"\n\u001b[0;32m--> 204\u001b[0;31m                          \" samples: %r\" % [int(l) for l in lengths])\n\u001b[0m\u001b[1;32m    205\u001b[0m \u001b[0;34m\u001b[0m\u001b[0m\n\u001b[1;32m    206\u001b[0m \u001b[0;34m\u001b[0m\u001b[0m\n",
      "\u001b[0;31mValueError\u001b[0m: Found input variables with inconsistent numbers of samples: [667, 723]"
     ]
    }
   ],
   "source": [
    "from sklearn import cross_validation\n",
    "X_train = tfidf_matrix[:667]\n",
    "X_test = tfidf_matrix[667:]\n",
    "from sklearn.naive_bayes import MultinomialNB\n",
    "clf = MultinomialNB().fit(X_train,y_train)\n",
    "pred = clf.predict(X_test)\n",
    "print(np.mean(pred == y_test))"
   ]
  },
  {
   "cell_type": "code",
   "execution_count": 216,
   "metadata": {},
   "outputs": [
    {
     "name": "stdout",
     "output_type": "stream",
     "text": [
      "{'n_estimators': 20}\n"
     ]
    }
   ],
   "source": [
    "from sklearn.ensemble import RandomForestClassifier\n",
    "from sklearn.model_selection import GridSearchCV\n",
    "np.random.seed(100)\n",
    "rf = RandomForestClassifier(random_state=10)\n",
    "parameters = {'n_estimators':range(10,100,10),}\n",
    "gs_clf = GridSearchCV(rf, parameters, n_jobs=-1).fit(X_train,y_train)\n",
    "print(gs_clf.best_params_)"
   ]
  },
  {
   "cell_type": "code",
   "execution_count": 189,
   "metadata": {},
   "outputs": [
    {
     "name": "stdout",
     "output_type": "stream",
     "text": [
      "{'class_weight': {0: 0.6, 1: 0.4}}\n"
     ]
    }
   ],
   "source": [
    "parameters = {'class_weight':[{0:0.7,1:0.3},{0:0.65,1:0.35},{0:0.6,1:0.4},{0:0.55,1:0.45}]}\n",
    "rf = RandomForestClassifier(random_state=10,n_estimators=20)\n",
    "gs_clf = GridSearchCV(rf, parameters, n_jobs=-1).fit(X_train,y_train)\n",
    "print(gs_clf.best_params_)"
   ]
  },
  {
   "cell_type": "code",
   "execution_count": 103,
   "metadata": {},
   "outputs": [],
   "source": [
    "from sklearn.ensemble import RandomForestClassifier\n",
    "rf = RandomForestClassifier(random_state=10).fit(X_train,y_train)\n",
    "pred = rf.predict(X_test)"
   ]
  },
  {
   "cell_type": "code",
   "execution_count": 33,
   "metadata": {},
   "outputs": [
    {
     "name": "stdout",
     "output_type": "stream",
     "text": [
      "['觉着', '狐狐', '亲娘', '可怜', '爱上', '垃圾', '男人', '变态', '偶无语', '可怜', '之人', '必有', '可恨']\n",
      "['看文', '可以', '一分', '觉得', '过意不去', '打分', '希望', '尽可能', '地多', '提意见', '想法', '先谢', '看文', '愉快', '觉得', '霸王', '不用', '偷偷摸摸', '可以', '光明正大', '谢谢', '大人']\n",
      "['好看', '玲珑', '心思']\n",
      "['答秋', '万俟', '现在', '妹妹', '万俟', '美貌', '性格', '恶劣', '天才', '少女', '当时', '写时', '设定', '沈狐', '题柔', '妃色', '勾心斗角', '妃色', '弟弟', '暧昧关系', '但是', '因为', '事不关己', '假装', '不知', '而已', '不过', '这点', '挑明', '罪过', '罪过', '迦蓝为', '不为人知', '原因', '琉璃', '听雪', '里会', '详细', '交代', '其实', '不是', '忠诚', '影子', '沈狐', '有时候', '不算', '推心置腹']\n",
      "['万俟', '一定', '女子']\n",
      "['当然', '万俟', '唯了', '还用说']\n",
      "['终于', '找到', '结局', '感动']\n",
      "['万俟', '是不是', '据说', '夭折', '大姐', '所扮', '万俟', '早已']\n",
      "['恩恩', '这个', '万俟', '女子']\n",
      "['happy', 'ending']\n",
      "['偶汗', '幽默']\n",
      "['光鲜亮丽', '背后', '有着', '辛酸', '故事', '世人', '表象', '每个', '背负着', '过去', '品味']\n",
      "['愚钝', '看出', '这个', '少年', '万俟', '万俟', '文中', '提到']\n",
      "['感觉', '身体', '灵魂', '不是', '场子', '不过', '确实', '一点点', '怪怪的', '应该', '就是', '身体', '灵魂', '不是', '精神病']\n",
      "['真的', '绝配']\n",
      "['喜欢', '十四', '作品', '感情', '细腻', '偶想', '问下', '这是', '十四', '伊吕写', '加油', '期待', '作品']\n",
      "['好文', '沈狐好', '心疼', '含笑', '泪光', '需要']\n",
      "['感动', '幸福']\n",
      "['喜欢', '这种', '感觉', '结局', '幸福', '嘴角', '止不住', '上扬']\n",
      "['幸福', '形容']\n",
      "['感动', '幸福', '一塌糊涂']\n",
      "['好悲', '沈狐', '背后', '故事', '凄惨']\n",
      "['番外']\n",
      "['幸福', '幸福']\n",
      "['概括', '惊心动魄']\n",
      "['想起', 'Agatha', 'Christy', '故事']\n",
      "['楼下', '问出']\n",
      "['心疼', '沈狐']\n",
      "['宓桑', '大人', '这能']\n",
      "['女子', '执拗', '觉得', '根本就是', '自己', '自己', '过不去']\n",
      "['狐狸', '同学', '加油']\n",
      "['不是', '万俟', '真的', '万俟']\n",
      "['因为', '少爷', '影子', '不是', '这么', '幽怨', '影会', '不会', '因为', '沈狐', '痴情', '万俟', '敌意']\n",
      "['哈哈', '其实', '绝配']\n",
      "['万俟', '未婚妻']\n",
      "['万俟', '沈狐', '一起']\n",
      "['精彩', '喜欢', '构思', '人物', '情感', '方面', '描写', '细腻', '读者', '身临其境', '之感', '伤感', '仿佛', '自己', '纠起', '欢喜', '仿佛', '置身', '乐园', '一张一弛', '配合', '就是', '喜欢', '加油']\n",
      "['精彩', '可以', '大结局']\n",
      "['逝去', '欧若拉', '可以', '搬走']\n",
      "['放粮', '等待', '折磨']\n",
      "['终于', '新文', '激动', '得手']\n",
      "['再开', '仓放点', '嘻嘻']\n",
      "['应该', '女子', '代替', '兄长', '承担', '家族', '责任', '女子']\n",
      "['万俟', '身上', '背着', '很重', '责任', '心疼']\n",
      "['本书', '好看', '可是', '见到', '样子']\n",
      "['她们', '吃药', '然后', '想起', '省钱']\n",
      "['变负', '而且', '过去', '发现', '特意', '过来', '打分']\n",
      "['陈先生', '肯定', '凶手']\n",
      "['其他', '出来', '秦峰', '第三个', '问题', '我们', '柯南', '体质']\n",
      "['这篇文', '完好', '发现', '文案', '这个', '特别', '总有', '鬼魂', '破案', '是不是']\n",
      "['学校', '外面', '育才路']\n",
      "['明白', '早上', '五点', '坐车', '上学', '晚上', '十点', '放学', '回家', '学校']\n",
      "['喜欢', '叔叔']\n",
      "['好看']\n",
      "['莫名', '心疼', '男主']\n",
      "['以为', '为了', '爱人', '欺骗', '妻子', '孩子', '好气']\n",
      "['开头', '很额', '形容', '有点像', '人死', '灵魂', '火化', '地方', '聊天', '墓地', '多少', '哈哈']\n",
      "['特别', '同情', '许州', '有时候', '社会', '就是', '这么', '公平', '没有', '能撑', '长辈', '没有', '引导', '老师', '警察', '法律', '办法', '保障', '自己', '权益', '私刑', '永远', '代表', '正义', '但是', '为什么', '代表', '正义', '执法', '机构', '凶手', '不捉', '受害者', '变成', '凶手', '惩罚', '受害者', '评论', '女主角', '但是', '事实上', '社会', '最大', '比重', '人群', '就是', '女主', '看见', '公平', '遭受', '公平', '努力', '寻找', '生存', '机会', '渺茫', '希望', '寄托', '政府', '法律', '男主会', '警察', '这个', '身份', '这是', '普通人', '唯一', '希望', '恶意', '回击', '恶意', '女主', '凶狠', '变成', '牢房', '许州']\n",
      "['觉得', '故事情节', 'OK', '世界', '小说', '女主', '人家', '无父', '无母', '无依无靠', '怂点']\n",
      "['感觉', '好看', '男主', '虽说', '面貌', '沧桑', '个性', '孩子气', '但是', '不能', '绝对', 'bug', '十八岁', '可能', '刚上', '高中', '大学']\n",
      "['好看', '特别', '喜欢', '秦峰', '和芃', '番外', '不够', '欧阳', '玉好', '可怜', '另外', '可以']\n",
      "['递给', '叔叔']\n",
      "['哈哈哈哈', '哈哈', '奶奶']\n",
      "['哈哈哈哈', '先是', '叔叔', '奶奶']\n",
      "['叔叔', '0.0']\n",
      "['叔叔', '哈哈哈哈']\n",
      "['这个', '小鬼', '其实', '坐下', '童子']\n",
      "['女主', '小鬼', '口臭', '晕过去']\n",
      "['开心', '作者', '成功', '营造', '气氛', '读者', '有人', '喜欢', '有人', '喜欢', '萝卜青菜', '各有所爱', '恶心', '之类']\n",
      "['一时', '不知', '里面', '人物', '不讨喜', '作者', '能力', '有待', '提高', '拜拜']\n",
      "['这篇文', '没想到', '这篇文', '前期', '阴暗']\n",
      "['说实话', '对不起', '作者', '但是', '剧情', '恶心', '抱歉']\n",
      "['法医', '秦明', '直视']\n",
      "['作者', '爽快', '毛病', '不能', '不是', '以暴制暴', '最起码', '强硬', '一巴掌', '懂得', '反击']\n",
      "['作者', '塑造', '女主', '还手', '还手', '就是', '这种', '现实', '孤立']\n",
      "['自杀', '抑郁症', '代入', '现实', '细思极']\n",
      "['女主刚', '见到', '男主', '自己', '见到', '正常人', '不能', '告诉', '自己', '异样', '人拉去', '欺负', '为了', '学业', '忍让', '觉得', '活该', '忍让', '只会', '看不起', '当初', '同学', '欺负', '直接', '她们', '起来', '班主任', '她们', '道歉', '女主是', '智障', '鉴定', '完毕']\n",
      "['叔叔']\n",
      "['好看']\n",
      "['憋屈', '反击', '高考', '难道', '没有', '别的', '办法', '大学', '欺负', '大学', '夸张', '典型', '社会']\n",
      "['男主', '顺利', '接受', '见鬼', '这个', '设定', '一定', '阴谋论']\n",
      "['女主', '在读', '高中', '就读', '高一']\n",
      "['这个', '司机']\n",
      "['以为', '欧阳', '类人', '威胁', '不说']\n",
      "['觉得', '女主', '样子', '打算', '兼职', '查案', '赚钱', '过活', '怎么样']\n",
      "['棒棒']\n",
      "['这是', '男主', '恶心']\n",
      "['明白', '本书', '表达', '受不了', '女主', '人设', '拜拜']\n",
      "['觉得', '接触', '判断', '医生', '学校', '实验室', '学生', '还有', '小道', '方法']\n",
      "['主线', '案件', '进展', '太慢', '发火']\n",
      "['心疼', '小玉子', '这么', '多人', '无辜', '生命', '执念', '真的', '可怕']\n",
      "['想起', '地狱', '少女', '不能', '解决', '看见', '这个', '虚幻']\n",
      "['暮色', '作者', '写些', '卧底', '之类', '好好看']\n",
      "['本书', '当时', '看得', '发抖', '但是', '真的', '吼吼']\n",
      "['好看', '好久没', '看过', '这么', '精彩', '作者', '这点儿']\n",
      "['觉得']\n",
      "['欧阳', '太惨', '对比', '就是', '得来', '全不', '费功夫', '果然', '只有', '颜值', '没有', '胸肌']\n",
      "['明白', '女主', '为什么', '欧阳', '发生', '自己', '身上', '不可思议', '还有', '感觉', '女主', '智商', '长期', '在线', '阴阳眼', '破案', '不能', '自己', '能力', '收取', '一定', '回报', '保洁', '公司', '干活', '为什么', '不能', '自己', '人生', '想法']\n",
      "['许州', '肯定', '凶手', '可惜', '为数不多', '女主好']\n",
      "['学校', '不是', '风凉话', '看不惯', '韩剧']\n",
      "['性格', '太软', '不争', '哀其', '不幸']\n",
      "['好看', '两天', '外章', '里面', '犯罪', '场景', '描述', '可怕', '晚上']\n",
      "['为什么', '地毯式', '搜查', '没有', '找到', '血迹', '理解', '问题']\n",
      "['喜欢', '这篇文', '觉得', '之后', '要文荒']\n",
      "['这篇文', '欺负', '压迫', '就算', '城里', '欺负', '人帮', '城里人', '还有', '农村', '孩子', '欺负', '我们', '农村', '孩子', '淳朴', '就算', '坏孩子', '不会', '全都', '欺负', '女主是', '惊世骇俗', '奇葩', '欺负', '活成', '容易']\n",
      "['弟弟', '可怜', '小到', '现在', '接受', '自己', '自己']\n",
      "['不是', '告诉', '凶杀', '秦风', '一问']\n",
      "['作者', '这辆']\n",
      "['好看']\n",
      "['好看', '好看', '好看']\n",
      "['作者', '几十万', '男主', '身上', '一刀']\n",
      "['不去', '旅游', '机票', '可以', '算了', '人家', '二代']\n",
      "['十年', '中明', '小区', '火灾', '男主', '上班', '现在', '至少', '参加', '工作', '十多年', '描写', '男主', '难道', '参加', '工作']\n",
      "['徐戈', '追来', '章点', '全部', '购买', '作者', '辛苦', '码字', '鼓励']\n",
      "['感觉', '怪怪的', '警察', '取证', '这么', '严谨', '查案']\n",
      "['笔挺', '就是', '女主老', '不听话']\n",
      "['我弃', '因为', '口味', '不合', '但是', '作者', '这篇文', '喜欢', '感觉', '现在', '网文', '开始', '趋于', '现实', '不是', '那种', '本文', '金手指', '就是', '上帝', '宠儿', '应该', '敢爱敢恨', '凌驾于', '现实', '法律', '试想', '假如', '孩子', '深陷', '作者', '文章', '女主', '替天行道', '维护正义', '女主', '正好', '主角', '光环', '破案', '不仅', '人设', '觉得', '会害', '孩子', '当然', '这个', '孩子', '心智', '成熟', '表现', '作者', '文里', '女主', '不是', '觉得', '女主', '真实', '有点像', '我们', '这个', '年纪', '有点像', '冷漠', '打压', '欺负', '没有', '爱护', '没有', '感觉', '世界', '黑暗', '这些', '感性', '表现', '理性', '名言', '终归是', '没错', '逆境', '堕落', '成长', '现实', '现实', '小说', '就是', '现实', '基础', '加工', '沉浸', '女主能', '接触', '男主', '那些', '冤魂', '女主能', '保护', '自己', '是不是', '美好', '是不是', '太假', '失真', '有人', '小说', '阴暗', '杀人', '舆论', '欺压', '负面影响', '正面', '必要', '这篇文', '评论', '自己', '留下', '这种', '难听', '就是', '犯贱', '不得', '但是', '不得不', '这篇文', '不是', '社会', '百态', '中较', '多恶', '和善', '几乎', '不成比例', '而且', '描写', '模糊', '但是', '怎么样', '许多', '读者', '学生', '步入', '社会', '青年人', '事情', '恶态', '这些', '类似', '小说', '其实', '可以', '出来', '我们', '或许', '可以', '更好', '接受', '融入', '社会', '社会', '残酷', '许多', '孩子', '活在', '童年', '幸福', '这篇文', '失真', '这文', '但是', '作者', '加油', '写文要', '加油']\n",
      "['觉得', '作者', '很合', '胃口', '为什么', '有人', '要说', '阴暗', '想象', '美好', '撕开', '就是', '现实', '这篇文', '代入', '女主', '性格', '说句', '不好', '觉得', '性格', '有点像', '不过', '暴力', '但是', '更能', '懦弱', '而已', '然后', '推理', '流畅', '逻辑', '觉得', '合胃口']\n",
      "['很棒', '就是', '憋屈']\n",
      "['同性', '原谅', '这个', '腐女']\n",
      "['喜歡', '好看']\n",
      "['这些', '该死']\n",
      "['这种', '混蛋', '不是', '应该', '几层', '地狱']\n",
      "['愧疚', '定罪', '嫌疑人', '真的']\n",
      "['为什么', '有种', '烂尾', '感觉']\n",
      "['悲伤']\n",
      "['好看', '文风', '好看', '就是']\n",
      "['一起', '完好']\n",
      "['哈哈']\n",
      "['营养液', '投了', '一瓶']\n",
      "['好看']\n",
      "['姑娘']\n",
      "['撒花', '撒花']\n",
      "['撒花']\n",
      "['妈呀']\n",
      "['哈哈']\n",
      "['哈哈', '撒花', '撒花', '撒花']\n",
      "['评论', '大家', '可能', '爽文', '觉得', '作者', '写作', '有条理', '逻辑', '作为', '外地', '地位', '没钱', '家庭', '农村', '小女孩', '现实', '真的', '无力', '工作', '学历', '家政', '校园', '暴力', '忍气吞声', '因为', '没有', '撑腰', 'jj', '亲们', '看来', '不食', '人间烟火', '仙女', '社会底层', '现实', '大呼', '受不了', '要弃文']\n",
      "['傻福', '撒花']\n",
      "['辣条', '撒花', '撒花', '撒花']\n",
      "['辣条', '撒花', '撒花']\n",
      "['随便', '女主']\n",
      "['妈呀', '恐怖']\n",
      "['辣条', '撒花', '撒花']\n",
      "['啧啧']\n",
      "['可怜']\n",
      "['叔叔']\n",
      "['这么', '容易', '继续', '追新文', '地雷', '表达', '如同', '滔滔', '江水', '连绵', '不决', '黄河', '泛滥', '不可收拾']\n",
      "['兴趣']\n",
      "['终于']\n",
      "['补分']\n",
      "['欧阳', '干嘛']\n",
      "['补分']\n",
      "['完结', '没有', '营养液', '全订', '奇怪']\n",
      "['终于', '本书', '舍不得']\n",
      "['小手', '一挥']\n",
      "['浩大', '啥时候']\n",
      "['后面', '三章', '没有', '晋江', '半夜', '小伙伴', '发红包']\n",
      "['下本']\n",
      "['刚看']\n",
      "['为什么', '老撞', '女主', '有钱有势', '不会', '欺负', '云云', '有钱有势', '开车', '晃神', '定撞', '小心', '谨慎', '真的', '很烦', '这种', '你晃神', '自己', '一跤', '读者', '觉得', '这女主', '惨兮兮', '可怜', '一晃', '神撞', '喜欢', '晃神', '啥子', '麻烦', '女主', '觉得', '碰瓷', '觉得', '好衰', '好伐']\n",
      "['手机', '问题', '为什么', '衔接', '不上', '翻页', '对不上', '怎么回事']\n",
      "['现在', '社会', '无奈', '觉得', '年龄', '大小', '只要', '杀人', '应该', '偿命']\n",
      "['以为', '完结', '许久', '过来', '发现', '惊喜']\n",
      "['瞄准', '发射', '地雷', '作者', '接住', '深沉']\n",
      "['欧阳']\n",
      "['卧槽', '这个', '学校', '太过分', '学费', '气死我了']\n",
      "['世界', '为什么', '人贩子']\n",
      "['情节', '有点儿', '跳跃', '感觉', '但是', '喜欢']\n",
      "['男主', '分析案情', '感觉', '好像', '犯罪心理']\n",
      "['构思', '不错', '但是', '文笔', '一般', '还有', '能量', '太多', '比如', '女主', '学校', '欺负', '是不是', '牵强', '不能', '为了', '惨写', '随意', '难道', '整个', '班级', '极品', '还有', '班级', '所有人', '联合', '起来', '欺负', '女主', '因为', '爸妈', '表示', '看不懂']\n",
      "['哈哈']\n",
      "['看文前', '習慣', '先逛', '評論區', '然後發現', '作者', '真的', '容易', '只要', '一有', '讀者', 'xx', '有點', '電視', '劇書', '什麼', '不是', '抄襲', '可能', '題材', '語氣', '正常', '作者', '直接', '語氣', '樣子', '無語', '不是', '作者', '溫柔', '賣萌', '但是', '不能', '語氣', '平和', '點說']\n",
      "['校园', '暴力', '可恶']\n",
      "['文文', '地雷', '包养']\n",
      "['面临', '问题', '从来', '没想', '解决', '女主', '没有', '金手指', '解决', '任何', '逃避', '逃避', '真的', '没有', '金手指', '混成', '样子', '男主会', '喜欢', '觉得', '男主', '喜欢', '不是', '女主', '金手指', '果然', '鬼个', '言情', '金手指', '男主才', '真爱']\n",
      "['这个', '女主', '小心', '作者', '这个', '后面', '还有', '多少']\n",
      "['呜呜', '呜呜']\n",
      "['撒花']\n",
      "['老师', '要死']\n",
      "['哈哈哈哈', '亲妈']\n",
      "['欧阳', '是不是', '这个', '身体', '公主']\n",
      "['小姑娘', '可怜', '孤零零', '觉得', '压抑', '心情', '不好']\n",
      "['好看', '心疼', '欧阳']\n",
      "['喜欢', '欧阳', '喜欢', '女主', '可能']\n",
      "['其实', '韩国', '想到', '整容', '说不定', '因为', '整容']\n",
      "['好看']\n",
      "['伤心']\n",
      "['有话', '不说', '明白', '陈先生', '问题', '直接']\n",
      "['小鬼', '可怕']\n",
      "['好看', '就是', '害怕']\n",
      "['小妖精', '你好', '地雷', '更新', '不杀']\n",
      "['觉得', '三观', '好人', '坏事', '总有', '报应', '大叔', '正义', '从来不', '缺席', '可能', '迟到', '难道', '真的', '一辈子', '觉得', '现在', '唯物主义', '论调', '科学', '发展', '不止', '一辈子', '的话', '地狱', '天堂', '仙境', '魔境', '阴曹地府', '其实', '世界', '不是', '没有', '公平', '人们', '眼前', '是不是', '有钱', '有名', '不知', '将来']\n",
      "['上辈子']\n",
      "['凶手', '是不是', '许州', '感觉', '不错', '同学', '这些', '上学', '平静', '这么', '过分', '校园', '暴力', '万幸']\n",
      "['觉得', '弟弟', '搞笑']\n",
      "['哈哈哈哈', '搞笑']\n",
      "['刚一看']\n",
      "['憋屈', '为什么', '女主', '这么', '包子', '男主', '没有', '特质', '喜欢']\n",
      "['浩爷', '完结']\n",
      "['完结', '舍不得']\n",
      "['女主', '学习', '太重', '而且', '没有', '依靠', '不然', '打架', '家长', '通报批评', '不会', '高考', '这个', '不过', '确实', '觉得', '这个', '学校', '不是', '优秀', '学校', '高中', '算县', '从来', '没有', '出过', '这种', '事情', '高中', '不是', '那种', '特别', '厉害', '学校', '学生', '吵吵闹闹', '一定', '作业', '下课时间', '太长', '高三', '还有', '闲工夫']\n",
      "['欧阳', '可怜', '不得']\n",
      "['哈哈哈哈']\n",
      "['哈哈哈哈']\n",
      "['红红火火', '恍恍惚惚', '哈哈哈哈', '哈哈哈哈']\n",
      "['喜欢', '小玉子', '不得善终', '难过']\n",
      "['失踪案', '报上去', '多年', '查不到', '发生', '命案', '立刻', '查到']\n",
      "['红红火火', '恍恍惚惚', '哈哈哈哈', '哈哈哈哈']\n",
      "['看得', '心酸']\n",
      "['套路']\n",
      "['包子']\n",
      "['撒花']\n",
      "['只想', '他们', '没有', '包子', '遗憾', '不过', '尊重', '决定']\n",
      "['撒花']\n",
      "['好好', '期待']\n",
      "['这么', '完结', '期待', '下本']\n",
      "['这么']\n",
      "['觉得', '应该', '有个', '某玉']\n",
      "['撒花']\n",
      "['晚上', '下水道', '尸体', '不太', '符合', '女主', '胆小', '性格']\n",
      "['红红火火', '恍恍惚惚', '哈哈哈哈', '哈哈哈哈']\n",
      "['本书', '开始']\n",
      "['哈哈哈哈', '挺胸', '看不出来', '会心', '一击']\n",
      "['哇哇', '下本', '警察', '喜欢']\n",
      "['红红火火', '恍恍惚惚', '哈哈哈哈', '哈哈哈哈']\n",
      "['自从', '开车', '以后', '飙车']\n",
      "['包子', '期待', '老秦', '包子', '欺负', '逼得', '哑口无言', '故事']\n",
      "['完结', '仓促']\n",
      "['撒花']\n",
      "['没见', '结局', '为什么', '挖心', '为了', '陈先生', '太太', '续命', '陈先生', '自己', '活命', '欧阳', '续命', '清楚', '明白', '这个', '结尾', '最多', '完全', '不是', '解惑']\n",
      "['过瘾', '加油']\n",
      "['完结', '舍不得', '叔叔']\n",
      "['撒花']\n",
      "['恭喜', '完结', '撒花']\n",
      "['撒花']\n",
      "['恭喜', '完结', '撒花']\n",
      "['完结', '撒花']\n",
      "['甜甜的']\n",
      "['好看']\n",
      "['本书']\n",
      "['浩哥', '下本', '霸道', '警察', '哈哈']\n",
      "['浩大', '下本', '好几个', '哪本', '先写', '开始', '我们', '约定', '我剛', '精神病', '患者', '逆袭', '全本', '书荒', '苏维', '故事', '创新', '慢慢', '嘻嘻']\n",
      "['完结', '撒花']\n",
      "['下本']\n",
      "['忽然', '来个', '二三', '驚喜', '番外', '浩大', '不带', '这么', '玩儿']\n",
      "['这番', '外甜', '中带', '完结', '撒花']\n",
      "['下本', '完结']\n",
      "['恭喜', '完结', '期待', '文中', '棒棒']\n",
      "['忘记', '完结', '撒花', '本书']\n",
      "['忧伤']\n",
      "['破完', '案子', '感觉', '做做']\n",
      "['觉得', '鬼怪', '感觉']\n",
      "['击掌', '赞叹', '此文', '应天', '人间', '几回', '不足以', '炸出', '倾慕', '之心']\n",
      "['哈哈哈哈', '作者', '恶搞']\n",
      "['福利', '就是', '我们', '哈哈哈哈']\n",
      "['轻轻地', '正如', '轻轻地', '我挥', '一挥', '衣袖', '地雷']\n",
      "['人生', '真谛']\n",
      "['甜炸']\n",
      "['哈哈哈哈', '糟蹋', '多少']\n",
      "['不错', '不错']\n",
      "['撒花']\n",
      "['啧啧', '啧啧', '男人', '哈哈', '别样', '跨年', '不错', '不错', '对象', '试试', '太虐']\n",
      "['bang', '地雷', '作者', '后台']\n",
      "['是不是']\n",
      "['喜欢', '一锅', '红糖', '哈哈哈哈']\n",
      "['好开心', '撒花', '撒花', '撒花', '撒花', '撒花', '撒花', '撒花', '撒花', '撒花', '撒花', '撒花']\n",
      "['心酸', '大姨妈', '小小']\n",
      "['终于', '火车']\n",
      "['厉害', '浩哥', '哈哈']\n",
      "['保持', '这个', '速度', '嘻嘻']\n",
      "['继续', '继续']\n",
      "['继续']\n",
      "['还有', '番外', '不够']\n",
      "['搞笑']\n",
      "['闻到', '幸福', '味道']\n",
      "['情节', '不错', '有料']\n",
      "['哈哈哈哈']\n",
      "['终于', '大姨妈', '可以', '生娃']\n",
      "['男主']\n",
      "['男主']\n",
      "['哈哈哈哈']\n",
      "['哈哈哈哈', '哈哈哈哈', '这么', '波涛汹涌', '大姨妈']\n",
      "['前世', '果然', '将军', '公主', '欧阳', '小玉子', '太监', '侍卫', '公主', '娶妻生子', '肖想', '公主', '复活', '公主', '抱进', '主卧', '开车', '开得成', '期待']\n",
      "['蜜汁', '大姨妈', '哈哈哈哈']\n",
      "['评论', '哈哈', '一大', '凑个', '热闹', '哈哈哈哈', '哈哈哈哈']\n",
      "['前世', '公主', '大叔', '将军']\n",
      "['尾牙']\n",
      "['哈哈', '大姨妈']\n",
      "['哈哈哈哈']\n",
      "['好看', '好笑', '浩大', '倍儿', '终于', '正常', '往后', '小秦', '秦小', '正常', '会愈', '快乐']\n",
      "['终于', '大姨妈', '包子', '是不是', '不远']\n",
      "['姨妈', '感觉', '他们', '就是', '兵荒马乱', '哈哈哈哈', '那会', '包子']\n",
      "['中间', '三年', '过去', '林姑娘', '大学毕业', '开车', '负罪感']\n",
      "['哈哈', '喝水', '可以', '间接', '接吻']\n",
      "['果然', '包子']\n",
      "['好看', '看过', '紧张', '刺激', '害怕', '小说', '怕鬼', '晚上', '一边', '害怕', '一边', '被窝', '哈哈哈哈', '作者', '加油', '好看']\n",
      "['恍恍惚惚', '红红火火']\n",
      "['差点', '这是', '亲妈']\n",
      "['哈哈哈哈', '两只', '二货']\n",
      "['看见', '忍不住']\n",
      "['哈哈哈哈', '浩哥浩哥', '我爱你', '千百回']\n",
      "['哈哈哈哈']\n",
      "['这章', '问题', '普通人', '博主发', '照片', '别说', '手机', '能照']\n",
      "['哈哈哈哈', '哈哈哈哈']\n",
      "['哈哈哈哈']\n",
      "['肯定', '大姨妈', '作者', '两人', '没有', '小孩', '有个', '小孩', '破坏', '两人', '世界', '不太好']\n",
      "['三观', '刘娟', '欧阳', '可以', '搬动', '屍体', '刘娟', '如何', '小玉子', '带去']\n",
      "['感觉', '能量', '好多', '后边', '大佬', '告知', '求剧']\n",
      "['通缉', '对象', '作者', '通缉', '理由', '没有', '打字机', '通缉', '悬赏', '傻乐', '赶紧', '变身']\n",
      "['写点', '婚后', '生活', '可以']\n",
      "['舍不得', '完结']\n",
      "['爱错', '就是']\n",
      "['撒花']\n",
      "['好憂傷', '許多', '尋覓', '執著', '孤單', '迷迷茫茫', '飄盪著', '幸好', '小飯', '秦峰', '即使', '至少', '擁有']\n",
      "['撒花']\n",
      "['享受', '当下', '幸福']\n",
      "['梵活', '灰飞烟灭', '作者', '我们', '谈谈']\n",
      "['撒花', '花花']\n",
      "['情缘']\n",
      "['撒花', '希望', '他们', '两只', '可以', '圆满']\n",
      "['结芬', '包子']\n",
      "['哪算番', '玫瑰', '九月', '心中', '只有', '一起', '地雷', '送给']\n",
      "['宝宝', '婚后', '番外', '宝宝', '打滚']\n",
      "['结婚', '结婚', '结婚']\n",
      "['撒花']\n",
      "['婚后']\n",
      "['浩大', '肯定', '吃火锅', '完结', '开始', '继续', '希望', '见证', '成长']\n",
      "['bang', '地雷', '作者', '后台']\n",
      "['尽快', '完结', '本书']\n",
      "['觉得', '继续', '坚持', '写下去', '我们', '继续', '就够', '有人', '离开', '总会', '不断', '出现']\n",
      "['加油', '棒棒']\n",
      "['完结', '舍得']\n",
      "['想要', '叔叔', '男票']\n",
      "['不足', '但是', '故事', '好看', '谢谢', '作者', '带来', '这个', '故事', '期待', '番外']\n",
      "['完结', '撒花']\n",
      "['亲爱', '加油']\n",
      "['甜甜的', '番外']\n",
      "['凶手', '心案', '不到', '凶手']\n",
      "['撒花']\n",
      "['好看', '希望', '以后', '这个', '题材']\n",
      "['喜欢', '老秦', '小玉子', '秦宝', '没有', '秦都', '好久好久', '开车', '秦宝', '没有', '开心']\n",
      "['完结', '没开', '文叫', '忘记', '是不是', '尝试', 'bl']\n",
      "['两年', '题材', '恭喜', '完结']\n",
      "['撒花', '撒花', '舍不得']\n",
      "['从头到尾', '追下来', '期待', '比心']\n",
      "['从今以后', '死忠', '粉丝']\n",
      "['撒花']\n",
      "['番外篇', '我要', '包子', '包子', '包子']\n",
      "['加油', '完心', '下来']\n",
      "['期待', '加油']\n",
      "['恭喜', '谢谢', '带给', '我们', '这么', '故事']\n",
      "['恭喜', '完结']\n",
      "['恭喜', '完结', '撒花', '撒花']\n",
      "['恭喜', '完结', '期待', '番外', '撒花', '撒花', '撒花']\n",
      "['后悔', '小说']\n",
      "['完结', '舍不得', '秦峰']\n",
      "['完结', '舍不得']\n",
      "['恭喜', '完结']\n",
      "['完结', '撒花']\n",
      "['完结', '撒花']\n",
      "['完结']\n",
      "['完结', '撒花', '有人', '节操', '有人', '人品', '有人', '智商', '但是', '心情', '地雷', '潜水', '出来', '码字']\n",
      "['好且', '幸福', '还有']\n",
      "['完结', '撒花', '撒花']\n",
      "['呜呜', '呜呜']\n",
      "['撒花']\n",
      "['撒花']\n",
      "['撒花']\n",
      "['女主', '性格', '这个', '世界', '同样', '篇文章', '社会', '负面影响', '夸大']\n",
      "['大人', '这是', '人家', '换来', '地雷', '辜负', '人家', '更新']\n",
      "['感觉', '没完', '样子']\n",
      "['人生', '开始', '包子', '玩一玩']\n",
      "['标题', '作者', '结局']\n",
      "['夫妇', '包子', '上线']\n",
      "['文章', '脑补', '现场', '睡不着']\n",
      "['撒花']\n",
      "['秦宝', '秦宝', '秦宝', '秦宝', '秦宝', '秦宝', '秦宝', '秦宝', '秦宝', '秦宝']\n",
      "['看一遍']\n",
      "['主角', '心真大', '见面', '对方', '见到', '形容', '性格']\n",
      "['撒花']\n",
      "['一切', '终于', '尘埃落定', '接下来', '就是', '秦峰', '甜蜜', '生活']\n",
      "['完结']\n",
      "['是不是', '完结']\n",
      "['哈哈哈哈', '哈哈哈哈']\n",
      "['没有', '防盗', '系统']\n",
      "['撒花']\n",
      "['感觉', '晕乎乎']\n",
      "['沙发']\n",
      "['陈向华', '欧阳', '提醒', '挖心', '不是', '才能', '散掉', '聚集', '邪气', '陈向华才']\n",
      "['死去', '好累']\n",
      "['这是', '完结']\n",
      "['女主活', '特别', '还有', '甜文', '这个', '反差', '太大']\n",
      "['网络', '谣言', '学校', '偏见', '警察', '澄清', '女主会', '处境', '仿佛', '看不见', '警察', '不说', '热心', '圣母', '普通人', '多些', '责任感', '女主帮']\n",
      "['这篇文', '女主内', '心想', '描写', '太少', '许州', '那章', '有人', '觉得', '女主', '无情', '其实', '作者', '衔接', '感情', '部分', '一笔带过', '退学', '保姆', '游戏', '一步步', '剧情', '在我看来', '憋屈', '不能', '理解', '女主']\n",
      "['这章', '温馨', '就是', '死光', '捂脸']\n",
      "['花花']\n",
      "['心凉', '喜欢', '徐州', '凶手']\n",
      "['撒花']\n",
      "['撒花']\n",
      "['终于', '终结', '最大', 'boss', '还有', '写点', '婚后', '生活']\n",
      "['叔叔', '好久', '开车', '心疼']\n"
     ]
    }
   ],
   "source": [
    "for i in range(len(y_test)):\n",
    "    if y_test[i] != pred[i]:\n",
    "        print(texts_test[i])"
   ]
  },
  {
   "cell_type": "code",
   "execution_count": 104,
   "metadata": {},
   "outputs": [
    {
     "name": "stdout",
     "output_type": "stream",
     "text": [
      "0.445491251682\n",
      "0.880319148936\n",
      "0.591599642538\n"
     ]
    }
   ],
   "source": [
    "from sklearn import metrics\n",
    "print(metrics.precision_score(y_test,pred))#P = TP/(TP+FP)\n",
    "print(metrics.recall_score(y_test,pred))#R = TP/(TP+FN)\n",
    "print(metrics.f1_score(y_test,pred))"
   ]
  },
  {
   "cell_type": "code",
   "execution_count": 105,
   "metadata": {},
   "outputs": [
    {
     "data": {
      "text/plain": [
       "<matplotlib.legend.Legend at 0x1a883be0>"
      ]
     },
     "execution_count": 105,
     "metadata": {},
     "output_type": "execute_result"
    },
    {
     "data": {
      "image/png": "[encoded data removed]",
      "text/plain": [
       "<matplotlib.figure.Figure at 0x11ec9438>"
      ]
     },
     "metadata": {},
     "output_type": "display_data"
    }
   ],
   "source": [
    "from sklearn.metrics import roc_curve,auc\n",
    "fpr, tpr, thresholds = roc_curve(y_test, pred,pos_label=1)#fpr:假阳性率 tpr:真阳性率\n",
    "auc = auc(fpr,tpr)\n",
    "plt.plot(fpr,tpr,label = 'area = %0.2f'%auc)\n",
    "plt.legend(loc=\"lower right\")"
   ]
  },
  {
   "cell_type": "code",
   "execution_count": 76,
   "metadata": {
    "collapsed": true
   },
   "outputs": [],
   "source": [
    "def plot_curve(rangex,train_loss,test_loss,xlabel):\n",
    "    plt.plot(rangex,train_loss_mean,\"o-\",color=\"r\",label=\"Training\")\n",
    "    plt.plot(rangex,test_loss_mean,\"o-\",color=\"g\",label=\"Cross-validation\")\n",
    "    plt.xlabel(xlabel)\n",
    "    plt.ylabel(\"Error\")\n",
    "    plt.legend(loc='best')\n",
    "    plt.show()"
   ]
  },
  {
   "cell_type": "code",
   "execution_count": 77,
   "metadata": {},
   "outputs": [
    {
     "data": {
      "image/png": "[encoded data removed]",
      "text/plain": [
       "<matplotlib.figure.Figure at 0x1a850ef0>"
      ]
     },
     "metadata": {},
     "output_type": "display_data"
    }
   ],
   "source": [
    "from sklearn.learning_curve import learning_curve\n",
    "train_sizes,train_loss,test_loss=learning_curve(RandomForestClassifier(random_state=10),X_train,y_train,cv=10,scoring='neg_mean_squared_error',\n",
    "                                                train_sizes=[0.1,0.25,0.5,0.75,1])\n",
    "train_loss_mean= (-1)*train_loss.mean(axis=1)#negtive mean squred error得出全是负值，10折表示每次有10个loss需要求行均值\n",
    "test_loss_mean= (-1)*test_loss.mean(axis=1)\n",
    "plot_curve(train_sizes,train_loss_mean,test_loss_mean,'training examples')"
   ]
  },
  {
   "cell_type": "code",
   "execution_count": 175,
   "metadata": {},
   "outputs": [
    {
     "data": {
      "text/plain": [
       "[('万俟', 0.2311469626610249),\n",
       " ('喜欢', 0.1930354325422849),\n",
       " ('好看', 0.14463905425800422),\n",
       " ('沈狐', 0.13208135228874),\n",
       " ('不错', 0.09019052578688293),\n",
       " ('狐狸', 0.08208926804833097),\n",
       " ('好文', 0.06463555537534085),\n",
       " ('女主', 0.06182531383728255),\n",
       " ('精彩', 0.0448668133303244),\n",
       " ('古龙', 0.04401862933559003),\n",
       " ('幸福', 0.043210814826516224),\n",
       " ('觉得', 0.038594954775561824),\n",
       " ('真的', 0.03840585962076399),\n",
       " ('结局', 0.038216555602510575),\n",
       " ('故事', 0.03740708478275035),\n",
       " ('感觉', 0.03182780417100141),\n",
       " ('打分', 0.03161478248154678),\n",
       " ('期待', 0.031543245519228956),\n",
       " ('琉璃', 0.03149105907052187),\n",
       " ('听雪', 0.030912656918641274)]"
      ]
     },
     "execution_count": 175,
     "metadata": {},
     "output_type": "execute_result"
    }
   ],
   "source": [
    "import jieba.analyse\n",
    "sentence = ''\n",
    "for review in texts:\n",
    "    sentence += ''.join(review)\n",
    "jieba.analyse.extract_tags(sentence, topK=20, withWeight=True, allowPOS=())"
   ]
  },
  {
   "cell_type": "code",
   "execution_count": null,
   "metadata": {
    "collapsed": true
   },
   "outputs": [],
   "source": []
  }
 ],
 "metadata": {
  "kernelspec": {
   "display_name": "Python 3",
   "language": "python",
   "name": "python3"
  },
  "language_info": {
   "codemirror_mode": {
    "name": "ipython",
    "version": 3
   },
   "file_extension": ".py",
   "mimetype": "text/x-python",
   "name": "python",
   "nbconvert_exporter": "python",
   "pygments_lexer": "ipython3",
   "version": "3.6.2"
  },
  "toc": {
   "nav_menu": {},
   "number_sections": true,
   "sideBar": true,
   "skip_h1_title": false,
   "toc_cell": false,
   "toc_position": {},
   "toc_section_display": "block",
   "toc_window_display": false
  },
  "varInspector": {
   "cols": {
    "lenName": 16,
    "lenType": 16,
    "lenVar": 40
   },
   "kernels_config": {
    "python": {
     "delete_cmd_postfix": "",
     "delete_cmd_prefix": "del ",
     "library": "var_list.py",
     "varRefreshCmd": "print(var_dic_list())"
    },
    "r": {
     "delete_cmd_postfix": ") ",
     "delete_cmd_prefix": "rm(",
     "library": "var_list.r",
     "varRefreshCmd": "cat(var_dic_list()) "
    }
   },
   "types_to_exclude": [
    "module",
    "function",
    "builtin_function_or_method",
    "instance",
    "_Feature"
   ],
   "window_display": false
  }
 },
 "nbformat": 4,
 "nbformat_minor": 2
}
